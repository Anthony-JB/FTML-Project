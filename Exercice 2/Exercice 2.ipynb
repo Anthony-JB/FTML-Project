{
 "cells": [
  {
   "cell_type": "markdown",
   "id": "b8edb520",
   "metadata": {},
   "source": [
    "# Bayes risk with absolute loss"
   ]
  },
  {
   "cell_type": "markdown",
   "id": "5816ae86",
   "metadata": {},
   "source": [
    "## Question 1"
   ]
  },
  {
   "cell_type": "markdown",
   "id": "74106d7f",
   "metadata": {},
   "source": [
    "$\\mathrm{P}(\\mathrm{Y} \\mid \\mathrm{X}=\\mathrm{x})$ where $\\mathrm{Y} \\mid \\mathrm{X}=\\mathrm{x}$ correspond à une distribution continue $\\operatorname{Exp}(\\lambda)$.  \n",
    "L'estimateur de Bayes pour la $l_2$ squared loss\n",
    "$$\n",
    "f_2^*(x)=E[Y \\mid X=x]=E\\left[\\lambda e^{-\\lambda}\\right]=\\frac{1}{\\lambda}\n",
    "$$\n",
    "L'estimateur de Bayes pour la $l_1$ absolute loss est la médiane de $\\mathrm{Y} \\mid \\mathrm{X}=\\mathrm{x}$\n",
    "$$\n",
    "f_1^*(x)=\\frac{\\ln (2)}{\\lambda}\n",
    "$$\n",
    "ON a bien 2 estimateurs différents"
   ]
  },
  {
   "cell_type": "markdown",
   "id": "c7e6219a",
   "metadata": {},
   "source": [
    "## Question 2"
   ]
  },
  {
   "cell_type": "markdown",
   "id": "f1503c71",
   "metadata": {},
   "source": [
    "On note $p=\\mathrm{P}(\\mathrm{Y} \\mid \\mathrm{X}=\\mathrm{x})$\n",
    "$$\n",
    "\\begin{gathered}\n",
    "g(z)=\\int_{\\mathbb{R}}|y-z| p(y) d y \\\\\n",
    "=\\int_z^{+\\infty} y p(y) d y-z \\int_z^{+\\infty} p(y) d y+z \\int_{-\\infty}^z p(y) d y-\\int_{-\\infty}^z y p(y) d y \\\\\n",
    "\\frac{d}{d z} g(z)=-z p(z)-\\left(\\int_z^{+\\infty} p(y) d y-z p(z)\\right)+\\left(\\int_{-\\infty}^z p(y) d y+z p(z)\\right)-z p(z) \\\\\n",
    "=\\int_{-\\infty}^z p(y) d y-\\int_z^{+\\infty} p(y) d y\n",
    "\\end{gathered}\n",
    "$$\n",
    "On obtient, $\\frac{d}{d z} g(z)=0$ si :\n",
    "$$\n",
    "\\int_{-\\infty}^z p(y) d y=\\int_z^{+\\infty} p(y) d y\n",
    "$$\n",
    "On a ce résultat, si on trouve $\\frac{1}{2}$ des deux côtés, donc l'estmiateur de Bayes $f^*(x)$ est la médianne.  \n",
    "On va confirmé qu'il sagit d'un minimum de $\\mathrm{g}(\\mathrm{z})$, dérivée seconde:\n",
    "$$\n",
    "\\frac{d^2}{d z^2} g(z)=2 p(z)>0\n",
    "$$\n",
    "Elle est positive donc on a un minimum."
   ]
  },
  {
   "cell_type": "code",
   "execution_count": null,
   "id": "52867227",
   "metadata": {},
   "outputs": [],
   "source": []
  }
 ],
 "metadata": {
  "kernelspec": {
   "display_name": "Python 3 (ipykernel)",
   "language": "python",
   "name": "python3"
  },
  "language_info": {
   "codemirror_mode": {
    "name": "ipython",
    "version": 3
   },
   "file_extension": ".py",
   "mimetype": "text/x-python",
   "name": "python",
   "nbconvert_exporter": "python",
   "pygments_lexer": "ipython3",
   "version": "3.11.4"
  }
 },
 "nbformat": 4,
 "nbformat_minor": 5
}
