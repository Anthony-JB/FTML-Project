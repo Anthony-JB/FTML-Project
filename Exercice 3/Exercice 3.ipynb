{
 "cells": [
  {
   "cell_type": "markdown",
   "id": "551dcf3d",
   "metadata": {},
   "source": [
    "# Expected value of empirical risk for ols"
   ]
  },
  {
   "cell_type": "markdown",
   "id": "1c6b2fd0",
   "metadata": {},
   "source": [
    "## Question 1"
   ]
  },
  {
   "cell_type": "markdown",
   "id": "a12a130b",
   "metadata": {},
   "source": [
    "On veut montrer que $\\mathbb{E}\\left(R_n(\\hat{\\theta})\\right)=\\mathbb{E}_\\epsilon\\left(\\frac{1}{n}\\left\\|\\left(I_n-X\\left(X^T X\\right)^{-1} X^T\\right) \\epsilon\\right\\|^2\\right)$  \n",
    "Or $R_n(\\hat{\\theta})=\\frac{1}{n}\\|Y-X \\hat{\\theta}\\|^2$ et $\\hat{\\theta}=\\left(X^T X\\right)^{-1} X^T Y$ et $Y=X \\theta^*+\\epsilon$  \n",
    "Donc:\n",
    "$$  \n",
    "\\begin{aligned}\n",
    "R_n(\\hat{\\theta}) & =\\frac{1}{n}\\left\\|X \\theta^*+\\epsilon-X\\left(X^T X\\right)^{-1} X^T\\left(X \\theta^*+\\epsilon\\right)\\right\\|^2 \\\\\n",
    "& =\\frac{1}{n}\\left\\|X \\theta^*+\\epsilon-X\\left(X^T X\\right)^{-1} X^T X \\theta^*+X\\left(X^T X\\right)^{-1} X^T \\epsilon\\right\\|^2 \\\\\n",
    "& =\\frac{1}{n}\\left\\|\\epsilon\\left(I_n-X\\left(X^T X\\right)^{-1} X^T\\right)\\right\\|^2\n",
    "\\end{aligned}\n",
    "$$\n",
    "Donc $\\mathbb{E}\\left(R_n(\\hat{\\theta})\\right)=\\mathbb{E}_\\epsilon\\left(\\frac{1}{n}\\left\\|\\left(I_n-X\\left(X^T X\\right)^{-1} X^T\\right) \\epsilon\\right\\|^2\\right)$"
   ]
  },
  {
   "cell_type": "markdown",
   "id": "3ad88abc",
   "metadata": {},
   "source": [
    "## Question 2"
   ]
  },
  {
   "cell_type": "markdown",
   "id": "ba59525d",
   "metadata": {},
   "source": [
    "On veut montrer que $\\mathbb{E}\\left(R_n(\\hat{\\theta})\\right)=\\mathbb{E}_\\epsilon\\left(\\frac{1}{n}\\left\\|\\left(I_n-X\\left(X^T X\\right)^{-1} X^T\\right) \\epsilon\\right\\|^2\\right)$  \n",
    "Or $R_n(\\hat{\\theta})=\\frac{1}{n}\\|Y-X \\hat{\\theta}\\|^2$ et $\\hat{\\theta}=\\left(X^T X\\right)^{-1} X^T Y$ et $Y=X \\theta^*+\\epsilon$  \n",
    "Donc:\n",
    "$$  \n",
    "\\begin{aligned}\n",
    "R_n(\\hat{\\theta}) & =\\frac{1}{n}\\left\\|X \\theta^*+\\epsilon-X\\left(X^T X\\right)^{-1} X^T\\left(X \\theta^*+\\epsilon\\right)\\right\\|^2 \\\\\n",
    "& =\\frac{1}{n}\\left\\|X \\theta^*+\\epsilon-X\\left(X^T X\\right)^{-1} X^T X \\theta^*+X\\left(X^T X\\right)^{-1} X^T \\epsilon\\right\\|^2 \\\\\n",
    "& =\\frac{1}{n}\\left\\|\\epsilon\\left(I_n-X\\left(X^T X\\right)^{-1} X^T\\right)\\right\\|^2\n",
    "\\end{aligned}\n",
    "$$\n",
    "Donc $\\mathbb{E}\\left(R_n(\\hat{\\theta})\\right)=\\mathbb{E}_\\epsilon\\left(\\frac{1}{n}\\left\\|\\left(I_n-X\\left(X^T X\\right)^{-1} X^T\\right) \\epsilon\\right\\|^2\\right)$"
   ]
  },
  {
   "cell_type": "markdown",
   "id": "7ea5b568",
   "metadata": {},
   "source": [
    "## Question 3"
   ]
  },
  {
   "cell_type": "markdown",
   "id": "912f3470",
   "metadata": {},
   "source": [
    "$\\begin{aligned}E\\left[\\frac{1}{n}\\|A \\varepsilon\\|^2\\right] & =E\\left[\\frac{1}{n} \\sum_{i=1}^n\\left(A_i \\varepsilon\\right)^2\\right] \\\\ \n",
    "& =E\\left[\\frac{1}{n} \\sum_{i=1}^n\\left(\\varepsilon^T A_i^T\\right)^2\\right] \\\\ \n",
    "& =E\\left[\\frac{1}{n} \\sum_{i=1}^n\\left(\\varepsilon^T A_i^T A_i \\varepsilon\\right)\\right] \\\\ \n",
    "& =E\\left[\\frac{1}{n} \\sum_{i=1}^n\\left(\\varepsilon^T \\varepsilon A_i^T A_i\\right)\\right] \\\\ \n",
    "& =E\\left[\\frac{1}{n} \\varepsilon^T \\varepsilon \\sum_{i=1}^n\\left(A_i^T A_i\\right)\\right] \\\\ \n",
    "& =E\\left[\\frac{1}{n} \\varepsilon^2 \\sum_{(i j) \\in[1, n]^2}\\left(A_{i j}^2\\right)\\right] \\\\ \n",
    "& =\\frac{\\sigma^2}{n} \\operatorname{Tr}\\left(A^T A\\right)\\end{aligned}$"
   ]
  },
  {
   "cell_type": "markdown",
   "id": "8b42c203",
   "metadata": {},
   "source": [
    "## Question 4"
   ]
  },
  {
   "cell_type": "markdown",
   "id": "6c32b135",
   "metadata": {},
   "source": [
    "$\\begin{gathered}A^t A=I_n-2 I_n X\\left(X^t X\\right)^{-1} X^t+X\\left(X^t X\\right)^{-1} X^t X\\left(X^t X\\right)^{-1} X^t \\\\ A^t A=I_n-2 X\\left(X^t X\\right)^{-1} X^t+X\\left(X^t X\\right)^{-1} X^t \\\\ \n",
    "A^t A=I_n-X\\left(X^t X\\right)^{-1} X^t \\\\ \n",
    "A^t A=A\\end{gathered}$\n"
   ]
  },
  {
   "cell_type": "markdown",
   "id": "926883fa",
   "metadata": {},
   "source": [
    "## Question 5"
   ]
  },
  {
   "cell_type": "markdown",
   "id": "f26f9332",
   "metadata": {},
   "source": [
    "$$\n",
    "\\begin{gathered}\n",
    "E\\left[R_n(\\hat{\\theta})\\right]=E_\\epsilon\\left[\\frac{1}{n}\\left\\|\\left(I_n-X\\left(X^T X\\right)^{-1} X^T\\right) \\epsilon\\right\\|_2^2\\right] \\\\\n",
    "=\\frac{\\sigma^2}{n} \\operatorname{tr}\\left(I_n-X\\left(X^T X\\right)^{-1} X^T\\right) \\\\\n",
    "=\\frac{\\sigma^2}{n}\\left(n-\\operatorname{tr}\\left(X\\left(X^T X\\right)^{-1} X^T\\right)\\right) \\\\\n",
    "=\\frac{\\sigma^2}{n}\\left(n-\\operatorname{tr}\\left(X^T X\\left(X^T X\\right)^{-1}\\right)\\right) \\\\\n",
    "=\\frac{\\sigma^2}{n}\\left(n-\\operatorname{tr}\\left(I_d\\right)\\right) \\\\\n",
    "=\\frac{\\sigma^2}{n}(n-d)\n",
    "\\end{gathered}\n",
    "$$\n",
    "Ainsi:\n",
    "$$\n",
    "E\\left[R_X(\\hat{\\theta})\\right]=E\\left[E\\left[R_n(\\hat{\\theta})\\right]\\right]=E\\left[\\frac{n-d}{n} \\sigma^2\\right]=\\frac{n-d}{n} \\sigma^2\n",
    "$$"
   ]
  },
  {
   "cell_type": "markdown",
   "id": "6a735364",
   "metadata": {},
   "source": [
    "## Question 6"
   ]
  },
  {
   "cell_type": "markdown",
   "id": "9729d645",
   "metadata": {},
   "source": [
    "On obtient:  \n",
    "$$\n",
    "\\frac{\\|y-\\widehat{\\theta}\\|}{n-d} \\sigma^2=\\frac{n-d}{n-d} \\sigma^2=\\sigma^2\n",
    "$$"
   ]
  },
  {
   "cell_type": "markdown",
   "id": "6504b605",
   "metadata": {},
   "source": [
    "## Question 7"
   ]
  },
  {
   "cell_type": "code",
   "execution_count": 3,
   "id": "523e0efc",
   "metadata": {},
   "outputs": [
    {
     "name": "stdout",
     "output_type": "stream",
     "text": [
      "Sigma value is 0.0625\n",
      "Sigma estimator is 0.0616713263145571\n"
     ]
    }
   ],
   "source": [
    "import numpy as np\n",
    "\n",
    "rng = np.random.RandomState(23)\n",
    "d = 23\n",
    "sigma = 0.25\n",
    "n = 5000\n",
    "theta = rng.rand(d).reshape(d, 1)\n",
    "\n",
    "X = rng.rand(n, d)\n",
    "epsilon = rng.normal(0, sigma, size=(n, 1))\n",
    "y = X @ theta + epsilon\n",
    "theta_hat = np.linalg.inv(X.T @ X) @ X.T @ y\n",
    "\n",
    "sigma_estimator = np.linalg.norm(y - X @ theta_hat) ** 2 / (n - d)\n",
    "print(\"Sigma value is\",format(float(sigma**2)))\n",
    "print(\"Sigma estimator is\",format(float(sigma_estimator)))"
   ]
  },
  {
   "cell_type": "code",
   "execution_count": null,
   "id": "30ee9d37",
   "metadata": {},
   "outputs": [],
   "source": []
  }
 ],
 "metadata": {
  "kernelspec": {
   "display_name": "Python 3 (ipykernel)",
   "language": "python",
   "name": "python3"
  },
  "language_info": {
   "codemirror_mode": {
    "name": "ipython",
    "version": 3
   },
   "file_extension": ".py",
   "mimetype": "text/x-python",
   "name": "python",
   "nbconvert_exporter": "python",
   "pygments_lexer": "ipython3",
   "version": "3.11.4"
  }
 },
 "nbformat": 4,
 "nbformat_minor": 5
}
